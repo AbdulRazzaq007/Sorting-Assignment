{
 "cells": [
  {
   "cell_type": "code",
   "execution_count": 1,
   "id": "0eca2673",
   "metadata": {},
   "outputs": [
    {
     "name": "stdout",
     "output_type": "stream",
     "text": [
      "2\n"
     ]
    }
   ],
   "source": [
    "# Problem 1.Given an array of n numbers, give an algorithm which gives the element appearing maximum\n",
    "# number of times?\n",
    "\n",
    "def find_max_frequency_element(arr):\n",
    "    frequency = {}\n",
    "    for num in arr:\n",
    "        if num in frequency:\n",
    "            frequency[num] += 1\n",
    "        else:\n",
    "            frequency[num] = 1\n",
    "    max_element = max(frequency, key=frequency.get)\n",
    "    return max_element\n",
    "arr = [1, 2, 2, 3, 3, 3, 2]\n",
    "print(find_max_frequency_element(arr)) \n"
   ]
  },
  {
   "cell_type": "code",
   "execution_count": 2,
   "id": "599c975f",
   "metadata": {},
   "outputs": [
    {
     "name": "stdout",
     "output_type": "stream",
     "text": [
      "5\n"
     ]
    }
   ],
   "source": [
    "# Problem 2 : We are given a list of n-1 integers and these integers are in the range of 1 to n . There are no\n",
    "# duplicates in the list. One of the integers is missing in the list. Give an algorithm to find that element Ex:\n",
    "# [1,2,4,6,3,7,8] 5 is the missing num.\n",
    "\n",
    "def find_missing_number(arr, n):\n",
    "    total_sum = n * (n + 1) // 2\n",
    "    array_sum = sum(arr)\n",
    "    return total_sum - array_sum\n",
    "\n",
    "\n",
    "arr = [1, 2, 4, 6, 3, 7, 8]\n",
    "n = 8\n",
    "print(find_missing_number(arr, n))  #\n"
   ]
  },
  {
   "cell_type": "code",
   "execution_count": 3,
   "id": "4e3a863a",
   "metadata": {},
   "outputs": [
    {
     "name": "stdout",
     "output_type": "stream",
     "text": [
      "3\n"
     ]
    }
   ],
   "source": [
    "# Problem 3 : Given an array of n positive numbers. All numbers occurs even number of times except 1 which\n",
    "# occurs odd number of times. Find that number in O(n) time and O(1) space. Ex: [1,2,3,2,3,1,3]. 3 is repeats odd\n",
    "# times.\n",
    "\n",
    "def find_odd_occurrence(arr):\n",
    "    result = 0\n",
    "    for num in arr:\n",
    "        result ^= num\n",
    "    return result\n",
    "\n",
    "arr = [1, 2, 3, 2, 3, 1, 3]\n",
    "print(find_odd_occurrence(arr))  \n"
   ]
  },
  {
   "cell_type": "code",
   "execution_count": 4,
   "id": "9eb5bbaf",
   "metadata": {},
   "outputs": [
    {
     "name": "stdout",
     "output_type": "stream",
     "text": [
      "(8, 7)\n"
     ]
    }
   ],
   "source": [
    "# Problem 4 : Given an array of n elements. Find two elements in the array such that their sum is equal to given\n",
    "# element K.\n",
    "\n",
    "def find_pair_with_sum(arr, K):\n",
    "    seen = set()\n",
    "    for num in arr:\n",
    "        if K - num in seen:\n",
    "            return num, K - num\n",
    "        seen.add(num)\n",
    "    return None\n",
    "\n",
    "\n",
    "arr = [10, 2, 3, 7, 8]\n",
    "K = 15\n",
    "print(find_pair_with_sum(arr, K))  \n"
   ]
  },
  {
   "cell_type": "code",
   "execution_count": 6,
   "id": "6a575cb3",
   "metadata": {},
   "outputs": [
    {
     "name": "stdout",
     "output_type": "stream",
     "text": [
      "(-80, 85)\n"
     ]
    }
   ],
   "source": [
    "# Problem 5 : Given an array of both positive and negative numbers, find two numbers such that their sum is\n",
    "# closest to 0. Ex: [ 1 ,60 ,-10, 70, -80,85]. Ans : -80,85.\n",
    "\n",
    "def find_closest_to_zero(arr):\n",
    "    arr.sort()\n",
    "    left, right = 0, len(arr) - 1\n",
    "    min_sum = float('inf')\n",
    "    best_pair = None\n",
    "    while left < right:\n",
    "        current_sum = arr[left] + arr[right]\n",
    "        if abs(current_sum) < abs(min_sum):\n",
    "            min_sum = current_sum\n",
    "            best_pair = (arr[left], arr[right])\n",
    "        if current_sum < 0:\n",
    "            left += 1\n",
    "        else:\n",
    "            right -= 1\n",
    "    return best_pair\n",
    "\n",
    "\n",
    "arr = [1, 60, -10, 70, -80, 85]\n",
    "print(find_closest_to_zero(arr))  \n"
   ]
  },
  {
   "cell_type": "code",
   "execution_count": 8,
   "id": "38a23e2b",
   "metadata": {},
   "outputs": [
    {
     "name": "stdout",
     "output_type": "stream",
     "text": [
      "(4, 8, 10)\n"
     ]
    }
   ],
   "source": [
    "# Problem 6 : Given an array of n elements . Find three elements such that their sum is equal to the given\n",
    "# number.\n",
    "\n",
    "def find_triplet_with_sum(arr, K):\n",
    "    arr.sort()\n",
    "    for i in range(len(arr) - 2):\n",
    "        left, right = i + 1, len(arr) - 1\n",
    "        while left < right:\n",
    "            current_sum = arr[i] + arr[left] + arr[right]\n",
    "            if current_sum == K:\n",
    "                return arr[i], arr[left], arr[right]\n",
    "            elif current_sum < K:\n",
    "                left += 1\n",
    "            else:\n",
    "                right -= 1\n",
    "    return None\n",
    "\n",
    "\n",
    "arr = [1, 4, 45, 6, 10, 8]\n",
    "K = 22\n",
    "print(find_triplet_with_sum(arr, K)) \n"
   ]
  },
  {
   "cell_type": "code",
   "execution_count": 9,
   "id": "b6647ec2",
   "metadata": {},
   "outputs": [
    {
     "name": "stdout",
     "output_type": "stream",
     "text": [
      "(3, 4, 5)\n"
     ]
    }
   ],
   "source": [
    "# Problem 7 : Given an array of n elements . Find three elements i, j, k in the array such that\n",
    "# i * i + j * j = k*k.\n",
    "\n",
    "def find_pythagorean_triplet(arr):\n",
    "    arr = [x * x for x in arr]  # Square all elements\n",
    "    arr.sort()  # Sort the squared array\n",
    "    n = len(arr)\n",
    "    \n",
    "    for k in range(n - 1, 1, -1):\n",
    "        i = 0\n",
    "        j = k - 1\n",
    "        while i < j:\n",
    "            if arr[i] + arr[j] == arr[k]:\n",
    "                return (int(arr[i] ** 0.5), int(arr[j] ** 0.5), int(arr[k] ** 0.5))\n",
    "            elif arr[i] + arr[j] < arr[k]:\n",
    "                i += 1\n",
    "            else:\n",
    "                j -= 1\n",
    "    return None\n",
    "\n",
    "arr = [3, 1, 4, 6, 5]\n",
    "print(find_pythagorean_triplet(arr))  \n"
   ]
  },
  {
   "cell_type": "code",
   "execution_count": 10,
   "id": "1ad5e0e8",
   "metadata": {},
   "outputs": [
    {
     "name": "stdout",
     "output_type": "stream",
     "text": [
      "2\n"
     ]
    }
   ],
   "source": [
    "# Problem 8 : An element is a majority if it appears more than n/2 times. Give an algorithm takes an array of n\n",
    "# element as argument and identifies a majority (if it exists).\n",
    "\n",
    "def find_majority_element(arr):\n",
    "    candidate, count = 0, 0\n",
    "    \n",
    "    # Step 1: Find the candidate\n",
    "    for num in arr:\n",
    "        if count == 0:\n",
    "            candidate = num\n",
    "        count += (1 if num == candidate else -1)\n",
    "    \n",
    "    # Step 2: Verify the candidate\n",
    "    if arr.count(candidate) > len(arr) // 2:\n",
    "        return candidate\n",
    "    return None\n",
    "\n",
    "\n",
    "arr = [2, 2, 1, 1, 2, 2, 2]\n",
    "print(find_majority_element(arr))  \n"
   ]
  },
  {
   "cell_type": "code",
   "execution_count": 11,
   "id": "772f9640",
   "metadata": {},
   "outputs": [
    {
     "name": "stdout",
     "output_type": "stream",
     "text": [
      "2\n"
     ]
    }
   ],
   "source": [
    "# Problem 9 : Given n × n matrix, and in each row all 1’s are followed by 0’s. Find the row with the maximum\n",
    "# number of 0’s.\n",
    "\n",
    "def find_row_with_max_zeros(matrix):\n",
    "    n = len(matrix)\n",
    "    max_zeros = 0\n",
    "    row_index = -1\n",
    "    j = n - 1  # Start from top-right corner\n",
    "\n",
    "    for i in range(n):\n",
    "        while j >= 0 and matrix[i][j] == 0:\n",
    "            j -= 1  # Move left\n",
    "        zeros_in_row = n - (j + 1)\n",
    "        if zeros_in_row > max_zeros:\n",
    "            max_zeros = zeros_in_row\n",
    "            row_index = i\n",
    "    return row_index\n",
    "\n",
    "\n",
    "matrix = [\n",
    "    [1, 1, 1, 0],\n",
    "    [1, 1, 0, 0],\n",
    "    [1, 0, 0, 0],\n",
    "    [1, 1, 1, 1]\n",
    "]\n",
    "print(find_row_with_max_zeros(matrix))  \n"
   ]
  },
  {
   "cell_type": "code",
   "execution_count": 12,
   "id": "88e5737f",
   "metadata": {},
   "outputs": [
    {
     "name": "stdout",
     "output_type": "stream",
     "text": [
      "[0, 0, 0, 0, 0, 1, 1, 1, 1, 1, 2, 2]\n"
     ]
    }
   ],
   "source": [
    "# Problem 10 : Sort an array of 0’s, 1’s and 2’s [or R’s, G’s and B’s]: Given an array A[] consisting of 0’s, 1’s and\n",
    "# 2’s, give an algorithm for sorting A[].The algorithm should put all 0’s first, then all 1’s and finally all 2’s at the\n",
    "# end. Example Input = {0,1,1,0,1,2,1,2,0,0,0,1}, Output = {0,0,0,0,0,1,1,1,1,1,2,2}\n",
    "\n",
    "def sort_012(arr):\n",
    "    low, mid, high = 0, 0, len(arr) - 1\n",
    "    \n",
    "    while mid <= high:\n",
    "        if arr[mid] == 0:\n",
    "            arr[low], arr[mid] = arr[mid], arr[low]\n",
    "            low += 1\n",
    "            mid += 1\n",
    "        elif arr[mid] == 1:\n",
    "            mid += 1\n",
    "        else:\n",
    "            arr[mid], arr[high] = arr[high], arr[mid]\n",
    "            high -= 1\n",
    "    return arr\n",
    "\n",
    "\n",
    "arr = [0, 1, 1, 0, 1, 2, 1, 2, 0, 0, 0, 1]\n",
    "print(sort_012(arr))  \n"
   ]
  },
  {
   "cell_type": "code",
   "execution_count": null,
   "id": "9e225790",
   "metadata": {},
   "outputs": [],
   "source": []
  }
 ],
 "metadata": {
  "kernelspec": {
   "display_name": "Python 3 (ipykernel)",
   "language": "python",
   "name": "python3"
  },
  "language_info": {
   "codemirror_mode": {
    "name": "ipython",
    "version": 3
   },
   "file_extension": ".py",
   "mimetype": "text/x-python",
   "name": "python",
   "nbconvert_exporter": "python",
   "pygments_lexer": "ipython3",
   "version": "3.11.5"
  }
 },
 "nbformat": 4,
 "nbformat_minor": 5
}
